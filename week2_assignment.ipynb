{
  "nbformat": 4,
  "nbformat_minor": 0,
  "metadata": {
    "colab": {
      "provenance": [],
      "authorship_tag": "ABX9TyNp3k9481V4xcCXY4KZOaJH",
      "include_colab_link": true
    },
    "kernelspec": {
      "name": "python3",
      "display_name": "Python 3"
    },
    "language_info": {
      "name": "python"
    }
  },
  "cells": [
    {
      "cell_type": "markdown",
      "metadata": {
        "id": "view-in-github",
        "colab_type": "text"
      },
      "source": [
        "<a href=\"https://colab.research.google.com/github/ac-26/CSI-25/blob/main/week2_assignment.ipynb\" target=\"_parent\"><img src=\"https://colab.research.google.com/assets/colab-badge.svg\" alt=\"Open In Colab\"/></a>"
      ]
    },
    {
      "cell_type": "markdown",
      "source": [
        "# **Week-2 Assignment -> Create a Python program that implements a singly linked list using Object-Oriented Programming (OOP) principles. Your implementation should include the following: A Node class to represent each node in the list. A LinkedList class to manage the nodes, with methods to: Add a node to the end of the list Print the list Delete the nth node (where n is a 1-based index) Include exception handling to manage edge cases such as: Deleting a node from an empty list Deleting a node with an index out of range Test your implementation with at least one sample list.**"
      ],
      "metadata": {
        "id": "UVY7duimQJW2"
      }
    },
    {
      "cell_type": "markdown",
      "source": [
        "### **By -> Arnav Chopra**"
      ],
      "metadata": {
        "id": "WwFtIsG7QamL"
      }
    },
    {
      "cell_type": "markdown",
      "source": [
        "### **Node class to represent a node in the Linked List**"
      ],
      "metadata": {
        "id": "LZIZLqULFKtI"
      }
    },
    {
      "cell_type": "code",
      "execution_count": 11,
      "metadata": {
        "id": "jz-tCpVIt2cw"
      },
      "outputs": [],
      "source": [
        "class Node:\n",
        "    def __init__(self, data):\n",
        "        self.data = data\n",
        "        self.next = None"
      ]
    },
    {
      "cell_type": "code",
      "source": [
        "class LinkedListException(Exception):\n",
        "    pass"
      ],
      "metadata": {
        "id": "grblC429uIUp"
      },
      "execution_count": 12,
      "outputs": []
    },
    {
      "cell_type": "markdown",
      "source": [
        "### **Main Linked List Class**"
      ],
      "metadata": {
        "id": "ikKxXVE1Fzrd"
      }
    },
    {
      "cell_type": "code",
      "source": [
        "class LinkedList:\n",
        "    #initialisingn empty linked list\n",
        "    def __init__(self):\n",
        "        self.head = None\n",
        "        self.size = 0\n",
        "\n",
        "    #function to insert at head(beginning) of linkjed list\n",
        "    def insert_at_head(self, data):\n",
        "        new_node = Node(data)\n",
        "        new_node.next = self.head\n",
        "        self.head = new_node\n",
        "        self.size += 1\n",
        "\n",
        "    #function to insert at tail(or at the end as said in problem statement) of linked list\n",
        "    def insert_at_tail(self, data):\n",
        "        new_node = Node(data)\n",
        "\n",
        "        if self.head is None:\n",
        "            self.head = new_node\n",
        "        else:\n",
        "            current = self.head\n",
        "            while current.next:\n",
        "                current = current.next\n",
        "            current.next = new_node\n",
        "        self.size += 1\n",
        "\n",
        "    #function to insert at a specific position\n",
        "    def insert_at_position(self, data, position):\n",
        "\n",
        "        #base case for out of bound cases\n",
        "        if position < 1 or position > self.size + 1:\n",
        "            raise LinkedListException(f\"Position {position} is out of range. Valid range is 1 to {self.size + 1}\")\n",
        "\n",
        "        #if position is head position\n",
        "        if position == 1:\n",
        "            self.insert_at_head(data)\n",
        "            return\n",
        "\n",
        "        #if position is tail position\n",
        "        if position == self.size + 1:\n",
        "            self.insert_at_tail(data)\n",
        "            return\n",
        "\n",
        "        #if anuy other position\n",
        "        new_node = Node(data)\n",
        "        current = self.head\n",
        "\n",
        "        for i in range(position - 2):\n",
        "            current = current.next\n",
        "\n",
        "        new_node.next = current.next\n",
        "        current.next = new_node\n",
        "        self.size += 1\n",
        "\n",
        "\n",
        "    #function to insert after a specific value\n",
        "    def insert_after_value(self, data, target_value):\n",
        "        if self.head is None:\n",
        "            raise LinkedListException(\"Cannot insert after value in an empty list\")\n",
        "\n",
        "        current = self.head\n",
        "\n",
        "        #traverse to the target value\n",
        "        while current:\n",
        "            if current.data == target_value:\n",
        "                new_node = Node(data)\n",
        "                new_node.next = current.next\n",
        "                current.next = new_node\n",
        "                self.size += 1\n",
        "                return\n",
        "            current = current.next\n",
        "\n",
        "        raise LinkedListException(f\"Value '{target_value}' not found in the list\")\n",
        "\n",
        "    #function to print the list\n",
        "    def print_list(self):\n",
        "        if self.head is None:\n",
        "            print(\"List is empty\")\n",
        "            return\n",
        "\n",
        "        current = self.head\n",
        "        elements = []\n",
        "\n",
        "        while current:\n",
        "            elements.append(str(current.data))\n",
        "            current = current.next\n",
        "\n",
        "        print(\"->\".join(elements))\n",
        "\n",
        "    #function to delete nth node\n",
        "    def delete_nth_node(self, n):\n",
        "        if self.head is None:\n",
        "            raise LinkedListException(\"Cannot delete from an empty list\")\n",
        "\n",
        "        if n < 1 or n > self.size:\n",
        "            raise LinkedListException(f\"Index {n} is out of range. List size is {self.size}\")\n",
        "\n",
        "        #if deleting the first node\n",
        "        if n == 1:\n",
        "            self.head = self.head.next\n",
        "            self.size -= 1\n",
        "            return\n",
        "\n",
        "        #if any other\n",
        "        current = self.head\n",
        "        for i in range(n - 2):\n",
        "            current = current.next\n",
        "\n",
        "        current.next = current.next.next\n",
        "        self.size -= 1\n",
        "\n",
        "    #function to print size of linked list\n",
        "    def get_size(self):\n",
        "        return self.size\n",
        "\n",
        "    #function to check if linked list is empty or not\n",
        "    def is_empty(self):\n",
        "        return self.head is None"
      ],
      "metadata": {
        "id": "gQTZXzF1uXRS"
      },
      "execution_count": 13,
      "outputs": []
    },
    {
      "cell_type": "markdown",
      "source": [
        "### **Creating and Testing Linked List**"
      ],
      "metadata": {
        "id": "iwrgg93huzvw"
      }
    },
    {
      "cell_type": "code",
      "source": [
        "def test_linked_list():\n",
        "    #creating a new linked list\n",
        "    ll = LinkedList()\n",
        "\n",
        "    #print empty list\n",
        "    print(\"Empty List Check:\")\n",
        "    ll.print_list()\n",
        "    print(f\"List size: {ll.get_size()}\")\n",
        "    print(f\"Is empty: {ll.is_empty()}\\n\")\n",
        "\n",
        "    #adding nodes to the list\n",
        "    ll.insert_at_tail(10)\n",
        "    ll.insert_at_tail(20)\n",
        "    ll.insert_at_tail(30)\n",
        "\n",
        "    ll.insert_at_head(5)\n",
        "    ll.insert_at_head(1)\n",
        "    print()\n",
        "\n",
        "    #printing\n",
        "    ll.print_list()\n",
        "    print(f\"List size: {ll.get_size()}\")\n",
        "    print(f\"Is empty: {ll.is_empty()}\\n\")\n",
        "\n",
        "    #inserting at position\n",
        "    ll.insert_at_position(15, 3)\n",
        "    ll.print_list()\n",
        "\n",
        "    #inserting after a value\n",
        "    ll.insert_at_position(0, 1)\n",
        "    ll.print_list()\n",
        "\n",
        "    ll.insert_after_value(12, 10)\n",
        "    ll.print_list()\n",
        "\n",
        "    #trying to delete node\n",
        "    #from middle\n",
        "    try:\n",
        "        ll.delete_nth_node(3)\n",
        "        ll.print_list()\n",
        "    except LinkedListException as e:\n",
        "        print(f\"Error: {e}\")\n",
        "\n",
        "    #from beginning\n",
        "    try:\n",
        "        ll.delete_nth_node(1)\n",
        "        ll.print_list()\n",
        "    except LinkedListException as e:\n",
        "        print(f\"Error: {e}\")\n",
        "\n",
        "    #from end\n",
        "    try:\n",
        "        ll.delete_nth_node(ll.get_size())\n",
        "        ll.print_list()\n",
        "    except LinkedListException as e:\n",
        "        print(f\"Error: {e}\")\n",
        "\n",
        "    print()\n",
        "\n",
        "    #testing on edge cases for exceptional handling\n",
        "    #deleting from out of range index\n",
        "    try:\n",
        "        ll.delete_nth_node(10)\n",
        "    except LinkedListException as e:\n",
        "        print(f\"Error: {e}\")\n",
        "\n",
        "    #deleting with invalid index\n",
        "    try:\n",
        "        ll.delete_nth_node(0)\n",
        "    except LinkedListException as e:\n",
        "        print(f\"Error: {e}\")"
      ],
      "metadata": {
        "id": "PIJEXQbqunMb"
      },
      "execution_count": 14,
      "outputs": []
    },
    {
      "cell_type": "code",
      "source": [
        "if __name__ == \"__main__\":\n",
        "    test_linked_list()"
      ],
      "metadata": {
        "colab": {
          "base_uri": "https://localhost:8080/"
        },
        "id": "FxARLKKsvfJI",
        "outputId": "240f0766-9579-4278-99ae-fe82bf117c32"
      },
      "execution_count": 15,
      "outputs": [
        {
          "output_type": "stream",
          "name": "stdout",
          "text": [
            "Empty List Check:\n",
            "List is empty\n",
            "List size: 0\n",
            "Is empty: True\n",
            "\n",
            "\n",
            "1->5->10->20->30\n",
            "List size: 5\n",
            "Is empty: False\n",
            "\n",
            "1->5->15->10->20->30\n",
            "0->1->5->15->10->20->30\n",
            "0->1->5->15->10->12->20->30\n",
            "0->1->15->10->12->20->30\n",
            "1->15->10->12->20->30\n",
            "1->15->10->12->20\n",
            "\n",
            "Error: Index 10 is out of range. List size is 5\n",
            "Error: Index 0 is out of range. List size is 5\n"
          ]
        }
      ]
    },
    {
      "cell_type": "code",
      "source": [],
      "metadata": {
        "id": "3oU13WC5viI3"
      },
      "execution_count": 15,
      "outputs": []
    }
  ]
}