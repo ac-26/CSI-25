{
  "nbformat": 4,
  "nbformat_minor": 0,
  "metadata": {
    "colab": {
      "provenance": [],
      "authorship_tag": "ABX9TyOEr7pVYQLeR74/Q9M+NBLo",
      "include_colab_link": true
    },
    "kernelspec": {
      "name": "python3",
      "display_name": "Python 3"
    },
    "language_info": {
      "name": "python"
    }
  },
  "cells": [
    {
      "cell_type": "markdown",
      "metadata": {
        "id": "view-in-github",
        "colab_type": "text"
      },
      "source": [
        "<a href=\"https://colab.research.google.com/github/ac-26/CSI-25/blob/main/week1_assignment.ipynb\" target=\"_parent\"><img src=\"https://colab.research.google.com/assets/colab-badge.svg\" alt=\"Open In Colab\"/></a>"
      ]
    },
    {
      "cell_type": "markdown",
      "source": [
        "# **Week-1 Assignment -> Create lower triangular, upper triangular and pyramid containing the \"*\" character.**\n",
        "\n",
        "### **By -> Arnav Chopra**"
      ],
      "metadata": {
        "id": "OcGs4cNOomL9"
      }
    },
    {
      "cell_type": "markdown",
      "source": [
        "### **This is the function to print Lower Triangle.**"
      ],
      "metadata": {
        "id": "VLLatTe5oNzP"
      }
    },
    {
      "cell_type": "code",
      "execution_count": 2,
      "metadata": {
        "id": "5WxPPbibn6fX"
      },
      "outputs": [],
      "source": [
        "def lower_triangle(n):\n",
        "    for i in range(1, n + 1):\n",
        "        print(\"* \" * i)\n",
        "    print()"
      ]
    },
    {
      "cell_type": "markdown",
      "source": [
        "### **This is the function to print Upper Triangle.**"
      ],
      "metadata": {
        "id": "q5qoB_TEoVlK"
      }
    },
    {
      "cell_type": "code",
      "source": [
        "def upper_triangle(n):\n",
        "    for i in range(n, 0, -1):\n",
        "        print(\"* \" * i)\n",
        "    print()"
      ],
      "metadata": {
        "id": "j2FqGx0GoAw0"
      },
      "execution_count": 3,
      "outputs": []
    },
    {
      "cell_type": "markdown",
      "source": [
        "### **This is the function to print Pyramid**"
      ],
      "metadata": {
        "id": "21byMWouoYwS"
      }
    },
    {
      "cell_type": "code",
      "source": [
        "def pyramid(n):\n",
        "    for i in range(1, n + 1):\n",
        "        spaces = ' ' * (n - i)\n",
        "        stars = '* ' * i\n",
        "        print(spaces + stars)\n",
        "    print()"
      ],
      "metadata": {
        "id": "kFBS4KlPoFFQ"
      },
      "execution_count": 4,
      "outputs": []
    },
    {
      "cell_type": "markdown",
      "source": [
        "### **Running the functions**"
      ],
      "metadata": {
        "id": "S0gHY9XfofAq"
      }
    },
    {
      "cell_type": "code",
      "source": [
        "rows = int(input(\"Enter the number of rows: \"))\n",
        "print(\"\\n\")\n",
        "lower_triangle(rows)\n",
        "upper_triangle(rows)\n",
        "pyramid(rows)"
      ],
      "metadata": {
        "colab": {
          "base_uri": "https://localhost:8080/"
        },
        "id": "sscWOrssoKQv",
        "outputId": "dfd0f315-6792-4984-be41-47281197f270"
      },
      "execution_count": 5,
      "outputs": [
        {
          "output_type": "stream",
          "name": "stdout",
          "text": [
            "Enter the number of rows: 5\n",
            "\n",
            "\n",
            "* \n",
            "* * \n",
            "* * * \n",
            "* * * * \n",
            "* * * * * \n",
            "\n",
            "* * * * * \n",
            "* * * * \n",
            "* * * \n",
            "* * \n",
            "* \n",
            "\n",
            "    * \n",
            "   * * \n",
            "  * * * \n",
            " * * * * \n",
            "* * * * * \n",
            "\n"
          ]
        }
      ]
    },
    {
      "cell_type": "code",
      "source": [],
      "metadata": {
        "id": "RGhEZQ13oLNW"
      },
      "execution_count": 5,
      "outputs": []
    }
  ]
}