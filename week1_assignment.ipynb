{
  "nbformat": 4,
  "nbformat_minor": 0,
  "metadata": {
    "colab": {
      "provenance": [],
      "authorship_tag": "ABX9TyNSYgmmIwZ+L8Aod88lKnf4",
      "include_colab_link": true
    },
    "kernelspec": {
      "name": "python3",
      "display_name": "Python 3"
    },
    "language_info": {
      "name": "python"
    }
  },
  "cells": [
    {
      "cell_type": "markdown",
      "metadata": {
        "id": "view-in-github",
        "colab_type": "text"
      },
      "source": [
        "<a href=\"https://colab.research.google.com/github/ac-26/CSI-25/blob/main/week1_assignment.ipynb\" target=\"_parent\"><img src=\"https://colab.research.google.com/assets/colab-badge.svg\" alt=\"Open In Colab\"/></a>"
      ]
    },
    {
      "cell_type": "markdown",
      "source": [
        "# **Week-1 Assignment -> Create lower triangular, upper triangular and pyramid containing the \"*\" character.**\n",
        "\n",
        "### **By -> Arnav Chopra**"
      ],
      "metadata": {
        "id": "OcGs4cNOomL9"
      }
    },
    {
      "cell_type": "markdown",
      "source": [
        "### **This is the function to print Lower Triangle.**"
      ],
      "metadata": {
        "id": "VLLatTe5oNzP"
      }
    },
    {
      "cell_type": "code",
      "execution_count": 5,
      "metadata": {
        "id": "5WxPPbibn6fX"
      },
      "outputs": [],
      "source": [
        "def lower_triangle(n):\n",
        "    for i in range(1, n + 1):\n",
        "        print(\"* \" * i)\n",
        "    print()"
      ]
    },
    {
      "cell_type": "markdown",
      "source": [
        "### **This is the function to print Upper Triangle.**"
      ],
      "metadata": {
        "id": "q5qoB_TEoVlK"
      }
    },
    {
      "cell_type": "code",
      "source": [
        "def upper_triangle(n):\n",
        "    for i in range(n, 0, -1):\n",
        "        print(\"* \" * i)\n",
        "    print()"
      ],
      "metadata": {
        "id": "j2FqGx0GoAw0"
      },
      "execution_count": 2,
      "outputs": []
    },
    {
      "cell_type": "markdown",
      "source": [
        "### **This is the function to print Pyramid**"
      ],
      "metadata": {
        "id": "21byMWouoYwS"
      }
    },
    {
      "cell_type": "code",
      "source": [
        "def pyramid(n):\n",
        "    for i in range(1, n + 1):\n",
        "        spaces = ' ' * (n - i)\n",
        "        stars = '* ' * i\n",
        "        print(spaces + stars)\n",
        "    print()"
      ],
      "metadata": {
        "id": "kFBS4KlPoFFQ"
      },
      "execution_count": 6,
      "outputs": []
    },
    {
      "cell_type": "markdown",
      "source": [
        "### **Running the functions**"
      ],
      "metadata": {
        "id": "S0gHY9XfofAq"
      }
    },
    {
      "cell_type": "code",
      "source": [
        "rows = int(input(\"Enter the number of rows: \"))\n",
        "lower_triangle(rows)\n",
        "upper_triangle(rows)\n",
        "pyramid(rows)"
      ],
      "metadata": {
        "colab": {
          "base_uri": "https://localhost:8080/"
        },
        "id": "sscWOrssoKQv",
        "outputId": "a6a2e6d3-aed6-411d-ca48-26797ee61d12"
      },
      "execution_count": 7,
      "outputs": [
        {
          "output_type": "stream",
          "name": "stdout",
          "text": [
            "Enter the number of rows: 5\n",
            "* \n",
            "* * \n",
            "* * * \n",
            "* * * * \n",
            "* * * * * \n",
            "\n",
            "* * * * * \n",
            "* * * * \n",
            "* * * \n",
            "* * \n",
            "* \n",
            "\n",
            "    * \n",
            "   * * \n",
            "  * * * \n",
            " * * * * \n",
            "* * * * * \n",
            "\n"
          ]
        }
      ]
    },
    {
      "cell_type": "code",
      "source": [],
      "metadata": {
        "id": "RGhEZQ13oLNW"
      },
      "execution_count": null,
      "outputs": []
    }
  ]
}